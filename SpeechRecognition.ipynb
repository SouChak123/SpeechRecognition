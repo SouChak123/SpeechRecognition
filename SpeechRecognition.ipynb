{
 "cells": [
  {
   "cell_type": "markdown",
   "id": "d5bf5972",
   "metadata": {},
   "source": [
    "# Configure"
   ]
  },
  {
   "cell_type": "code",
   "execution_count": 25,
   "id": "b76fc9b7",
   "metadata": {},
   "outputs": [],
   "source": [
    "API_KEY_ASSEMBLYAI=\"088f27b2d61141f89b64df7b8d2e7c3b\""
   ]
  },
  {
   "cell_type": "markdown",
   "id": "2dd05efe",
   "metadata": {},
   "source": [
    "## Upload"
   ]
  },
  {
   "cell_type": "code",
   "execution_count": 26,
   "id": "67645464",
   "metadata": {},
   "outputs": [
    {
     "name": "stdout",
     "output_type": "stream",
     "text": [
      "{'upload_url': 'https://cdn.assemblyai.com/upload/07ae105a-3ccd-44e6-8f80-1290f3d020cc'}\n"
     ]
    }
   ],
   "source": [
    "import requests\n",
    "filename=\"output.wav\"\n",
    "upload_endpoint=\"https://api.assemblyai.com/v2/upload\"\n",
    "def read_file(filename, chunk_size=5242880):\n",
    "    with open(filename, 'rb') as _file:\n",
    "        while True:\n",
    "            data = _file.read(chunk_size)\n",
    "            if not data:\n",
    "                break\n",
    "            yield data\n",
    "\n",
    "headers = {'authorization': API_KEY_ASSEMBLYAI} \n",
    "response = requests.post(upload_endpoint,\n",
    "                        headers=headers,\n",
    "                        data=read_file(filename))\n",
    "\n",
    "print(response.json())\n",
    "audio_url= response.json()['upload_url']"
   ]
  },
  {
   "cell_type": "code",
   "execution_count": 27,
   "id": "1d8d5473",
   "metadata": {},
   "outputs": [
    {
     "data": {
      "text/plain": [
       "'https://cdn.assemblyai.com/upload/07ae105a-3ccd-44e6-8f80-1290f3d020cc'"
      ]
     },
     "execution_count": 27,
     "metadata": {},
     "output_type": "execute_result"
    }
   ],
   "source": [
    "audio_url"
   ]
  },
  {
   "cell_type": "markdown",
   "id": "420dff37",
   "metadata": {},
   "source": [
    "## Transcribe"
   ]
  },
  {
   "cell_type": "code",
   "execution_count": 28,
   "id": "52af1253",
   "metadata": {},
   "outputs": [
    {
     "name": "stdout",
     "output_type": "stream",
     "text": [
      "{'id': 'oax7ynro3q-fe28-42a0-a6dd-0190f89510a2', 'language_model': 'assemblyai_default', 'acoustic_model': 'assemblyai_default', 'language_code': 'en_us', 'status': 'queued', 'audio_url': 'https://cdn.assemblyai.com/upload/07ae105a-3ccd-44e6-8f80-1290f3d020cc', 'text': None, 'words': None, 'utterances': None, 'confidence': None, 'audio_duration': None, 'punctuate': True, 'format_text': True, 'dual_channel': None, 'webhook_url': None, 'webhook_status_code': None, 'webhook_auth': False, 'webhook_auth_header_name': None, 'speed_boost': False, 'auto_highlights_result': None, 'auto_highlights': False, 'audio_start_from': None, 'audio_end_at': None, 'word_boost': [], 'boost_param': None, 'filter_profanity': False, 'redact_pii': False, 'redact_pii_audio': False, 'redact_pii_audio_quality': None, 'redact_pii_policies': None, 'redact_pii_sub': None, 'speaker_labels': False, 'content_safety': False, 'iab_categories': False, 'content_safety_labels': {}, 'iab_categories_result': {}, 'language_detection': False, 'custom_spelling': None, 'disfluencies': False, 'sentiment_analysis': False, 'sentiment_analysis_results': None, 'auto_chapters': False, 'chapters': None, 'entity_detection': False, 'entities': None}\n"
     ]
    }
   ],
   "source": [
    "import requests\n",
    "transcription_endpoint = \"https://api.assemblyai.com/v2/transcript\"\n",
    "json = { \"audio_url\": audio_url }\n",
    "headers = {\n",
    "    \"authorization\": API_KEY_ASSEMBLYAI,\n",
    "    \"content-type\": \"application/json\"\n",
    "}\n",
    "response = requests.post(transcription_endpoint, json=json, headers=headers)\n",
    "print(response.json())\n",
    "job_id= response.json()['id']"
   ]
  },
  {
   "cell_type": "code",
   "execution_count": 29,
   "id": "e4783945",
   "metadata": {},
   "outputs": [
    {
     "data": {
      "text/plain": [
       "'oax7ynro3q-fe28-42a0-a6dd-0190f89510a2'"
      ]
     },
     "execution_count": 29,
     "metadata": {},
     "output_type": "execute_result"
    }
   ],
   "source": [
    "job_id"
   ]
  },
  {
   "cell_type": "markdown",
   "id": "07b919ab",
   "metadata": {},
   "source": [
    "## Polling"
   ]
  },
  {
   "cell_type": "code",
   "execution_count": 30,
   "id": "a4499494",
   "metadata": {},
   "outputs": [
    {
     "data": {
      "text/plain": [
       "'https://api.assemblyai.com/v2/transcript/oax7ynro3q-fe28-42a0-a6dd-0190f89510a2'"
      ]
     },
     "execution_count": 30,
     "metadata": {},
     "output_type": "execute_result"
    }
   ],
   "source": [
    "polling_endpoint=transcription_endpoint+ '/'+ job_id\n",
    "polling_endpoint"
   ]
  },
  {
   "cell_type": "code",
   "execution_count": 32,
   "id": "b49fd195",
   "metadata": {},
   "outputs": [
    {
     "data": {
      "text/plain": [
       "{'id': 'oax7ynro3q-fe28-42a0-a6dd-0190f89510a2',\n",
       " 'language_model': 'assemblyai_default',\n",
       " 'acoustic_model': 'assemblyai_default',\n",
       " 'language_code': 'en_us',\n",
       " 'status': 'completed',\n",
       " 'audio_url': 'https://cdn.assemblyai.com/upload/07ae105a-3ccd-44e6-8f80-1290f3d020cc',\n",
       " 'text': 'Can you listen to me? So what is this meeting all about? Can you say that this let me know. Hello?',\n",
       " 'words': [{'text': 'Can',\n",
       "   'start': 6610,\n",
       "   'end': 6738,\n",
       "   'confidence': 0.69031,\n",
       "   'speaker': None},\n",
       "  {'text': 'you',\n",
       "   'start': 6764,\n",
       "   'end': 6918,\n",
       "   'confidence': 0.96688,\n",
       "   'speaker': None},\n",
       "  {'text': 'listen',\n",
       "   'start': 6944,\n",
       "   'end': 7134,\n",
       "   'confidence': 0.98392,\n",
       "   'speaker': None},\n",
       "  {'text': 'to',\n",
       "   'start': 7172,\n",
       "   'end': 7338,\n",
       "   'confidence': 0.96,\n",
       "   'speaker': None},\n",
       "  {'text': 'me?',\n",
       "   'start': 7364,\n",
       "   'end': 7940,\n",
       "   'confidence': 0.99762,\n",
       "   'speaker': None},\n",
       "  {'text': 'So',\n",
       "   'start': 8630,\n",
       "   'end': 9030,\n",
       "   'confidence': 0.61957,\n",
       "   'speaker': None},\n",
       "  {'text': 'what',\n",
       "   'start': 9080,\n",
       "   'end': 9258,\n",
       "   'confidence': 0.99507,\n",
       "   'speaker': None},\n",
       "  {'text': 'is',\n",
       "   'start': 9284,\n",
       "   'end': 9438,\n",
       "   'confidence': 0.8643,\n",
       "   'speaker': None},\n",
       "  {'text': 'this',\n",
       "   'start': 9464,\n",
       "   'end': 9618,\n",
       "   'confidence': 0.75719,\n",
       "   'speaker': None},\n",
       "  {'text': 'meeting',\n",
       "   'start': 9644,\n",
       "   'end': 9898,\n",
       "   'confidence': 0.91443,\n",
       "   'speaker': None},\n",
       "  {'text': 'all',\n",
       "   'start': 9934,\n",
       "   'end': 10062,\n",
       "   'confidence': 0.9868,\n",
       "   'speaker': None},\n",
       "  {'text': 'about?',\n",
       "   'start': 10076,\n",
       "   'end': 10650,\n",
       "   'confidence': 0.98413,\n",
       "   'speaker': None},\n",
       "  {'text': 'Can',\n",
       "   'start': 10820,\n",
       "   'end': 11082,\n",
       "   'confidence': 0.93099,\n",
       "   'speaker': None},\n",
       "  {'text': 'you',\n",
       "   'start': 11096,\n",
       "   'end': 11238,\n",
       "   'confidence': 0.76527,\n",
       "   'speaker': None},\n",
       "  {'text': 'say',\n",
       "   'start': 11264,\n",
       "   'end': 11454,\n",
       "   'confidence': 0.99771,\n",
       "   'speaker': None},\n",
       "  {'text': 'that',\n",
       "   'start': 11492,\n",
       "   'end': 12080,\n",
       "   'confidence': 0.9916,\n",
       "   'speaker': None},\n",
       "  {'text': 'this',\n",
       "   'start': 12410,\n",
       "   'end': 12774,\n",
       "   'confidence': 0.03059,\n",
       "   'speaker': None},\n",
       "  {'text': 'let',\n",
       "   'start': 12812,\n",
       "   'end': 12978,\n",
       "   'confidence': 0.80222,\n",
       "   'speaker': None},\n",
       "  {'text': 'me',\n",
       "   'start': 13004,\n",
       "   'end': 13158,\n",
       "   'confidence': 0.72579,\n",
       "   'speaker': None},\n",
       "  {'text': 'know.',\n",
       "   'start': 13184,\n",
       "   'end': 13760,\n",
       "   'confidence': 0.98399,\n",
       "   'speaker': None},\n",
       "  {'text': 'Hello?',\n",
       "   'start': 14270,\n",
       "   'end': 14520,\n",
       "   'confidence': 0.56287,\n",
       "   'speaker': None}],\n",
       " 'utterances': None,\n",
       " 'confidence': 0.833869047619047,\n",
       " 'audio_duration': 20,\n",
       " 'punctuate': True,\n",
       " 'format_text': True,\n",
       " 'dual_channel': None,\n",
       " 'webhook_url': None,\n",
       " 'webhook_status_code': None,\n",
       " 'webhook_auth': False,\n",
       " 'webhook_auth_header_name': None,\n",
       " 'speed_boost': False,\n",
       " 'auto_highlights_result': None,\n",
       " 'auto_highlights': False,\n",
       " 'audio_start_from': None,\n",
       " 'audio_end_at': None,\n",
       " 'word_boost': [],\n",
       " 'boost_param': None,\n",
       " 'filter_profanity': False,\n",
       " 'redact_pii': False,\n",
       " 'redact_pii_audio': False,\n",
       " 'redact_pii_audio_quality': None,\n",
       " 'redact_pii_policies': None,\n",
       " 'redact_pii_sub': None,\n",
       " 'speaker_labels': False,\n",
       " 'content_safety': False,\n",
       " 'iab_categories': False,\n",
       " 'content_safety_labels': {'status': 'unavailable',\n",
       "  'results': [],\n",
       "  'summary': {}},\n",
       " 'iab_categories_result': {'status': 'unavailable',\n",
       "  'results': [],\n",
       "  'summary': {}},\n",
       " 'language_detection': False,\n",
       " 'custom_spelling': None,\n",
       " 'disfluencies': False,\n",
       " 'sentiment_analysis': False,\n",
       " 'auto_chapters': False,\n",
       " 'chapters': None,\n",
       " 'sentiment_analysis_results': None,\n",
       " 'entity_detection': False,\n",
       " 'entities': None}"
      ]
     },
     "execution_count": 32,
     "metadata": {},
     "output_type": "execute_result"
    }
   ],
   "source": [
    "polling_response=requests.get(polling_endpoint, json=json, headers=headers)\n",
    "polling_response.json()\n"
   ]
  },
  {
   "cell_type": "code",
   "execution_count": 33,
   "id": "e8158ba8",
   "metadata": {},
   "outputs": [],
   "source": [
    "data=polling_response.json()"
   ]
  },
  {
   "cell_type": "markdown",
   "id": "bedd6c7b",
   "metadata": {},
   "source": [
    "## Saving the transcipt"
   ]
  },
  {
   "cell_type": "code",
   "execution_count": 36,
   "id": "278da6c9",
   "metadata": {},
   "outputs": [
    {
     "name": "stdout",
     "output_type": "stream",
     "text": [
      "Transcription Saved!!!!\n"
     ]
    }
   ],
   "source": [
    "text_filename= filename[:-4]+\".txt\"\n",
    "with open(text_filename, \"w\") as f:\n",
    "    f.write(data[\"text\"])\n",
    "print('Transcription Saved!!!!')\n"
   ]
  },
  {
   "cell_type": "code",
   "execution_count": null,
   "id": "06a03ca4",
   "metadata": {},
   "outputs": [],
   "source": []
  }
 ],
 "metadata": {
  "kernelspec": {
   "display_name": "Python 3",
   "language": "python",
   "name": "python3"
  },
  "language_info": {
   "codemirror_mode": {
    "name": "ipython",
    "version": 3
   },
   "file_extension": ".py",
   "mimetype": "text/x-python",
   "name": "python",
   "nbconvert_exporter": "python",
   "pygments_lexer": "ipython3",
   "version": "3.9.4"
  }
 },
 "nbformat": 4,
 "nbformat_minor": 5
}
